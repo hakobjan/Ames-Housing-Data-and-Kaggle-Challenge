{
  "nbformat": 4,
  "nbformat_minor": 0,
  "metadata": {
    "colab": {
      "name": "JIRA_Project_Final_Hakob.ipynb",
      "provenance": [],
      "collapsed_sections": [],
      "toc_visible": true,
      "include_colab_link": true
    },
    "kernelspec": {
      "name": "python3",
      "display_name": "Python 3"
    },
    "language_info": {
      "name": "python"
    }
  },
  "cells": [
    {
      "cell_type": "markdown",
      "metadata": {
        "id": "view-in-github",
        "colab_type": "text"
      },
      "source": [
        "<a href=\"https://colab.research.google.com/github/hakobjan/Ames-Housing-Data-and-Kaggle-Challenge/blob/master/JIRA_Project_Final_Hakob.ipynb\" target=\"_parent\"><img src=\"https://colab.research.google.com/assets/colab-badge.svg\" alt=\"Open In Colab\"/></a>"
      ]
    },
    {
      "cell_type": "code",
      "source": [
        "import pandas as pd\n",
        "import re\n",
        "from transformers import pipeline\n",
        "from nltk import word_tokenize\n",
        "from nltk.corpus import stopwords\n",
        "data = pd.read_csv('Defect_Hist_Trends_01_01_22_revised.csv')\n",
        "df = data.drop_duplicates().copy()"
      ],
      "metadata": {
        "id": "0uuK3C9DGSde"
      },
      "execution_count": null,
      "outputs": []
    },
    {
      "cell_type": "markdown",
      "source": [
        "# Preprocessing The Data"
      ],
      "metadata": {
        "id": "mPnC5phhKNo6"
      }
    },
    {
      "cell_type": "code",
      "source": [
        "stop_words = set(stopwords.words('english'))\n",
        "def preprocess(txt):\n",
        "    txt = str(txt)\n",
        "    txt = txt.replace('\\xa0',' ').strip() # \\xa0 adds space\n",
        "    txt = re.sub(r'http\\S+', 'URLREMOVED', txt)\n",
        "    txt = re.sub(r'\\d{1,2}[-\\/]\\d{1,2}[-\\/]\\d{4}|\\d{4}[-\\/]\\d{1,2}[-\\/]\\d{1,2}|\\d{1,2}[-\\/]\\d{1,2}[-\\/]\\d{1,2}','DATE',txt)\n",
        "    txt = re.sub(r'\\d{2}\\:\\d{2}\\:{0,1}\\d{0,2}','TIME', txt)\n",
        "    txt = re.sub(r'\\b[A-Za-z0-9._%+-]+@[A-Za-z0-9.-]+\\.[A-Z|a-z]{2,}\\b', 'EMAILREMOVED', txt) # remove emails\n",
        "    txt = re.sub(r'[-_:\\/\\\\,\\?\\.]',' ', txt) # Replace with a space\n",
        "    txt = txt.replace('\\n',' ').replace('\\t',' ').replace('\\r',' ') # NOTE: Hope it doeesn't affect txts like url\\new\n",
        "    txt = txt.replace('!',' ').replace('~','').replace('`','')\n",
        "    txt = re.sub(r'\\'t|\\'s|’t|’s', '', txt) # remove 's 't\n",
        "    txt = re.sub(r'[\\{\\}\\[\\]\\(\\)<>\\'\\\"\\*”’$;#%^@|=+-]',' ', txt) # Remove\n",
        "    txt = re.sub(r'[A-Z][a-z]+',lambda x: x.group(0).lower(), txt) # Selective lowercase : https://stackoverflow.com/a/7588961/15505495\n",
        "    txt = re.sub(r'\\d', '', txt) # Remove numbers\n",
        "    txt = re.sub(r' +',' ',txt) # Remove multiple white spaces\n",
        "    # Stopword removal\n",
        "    tokenized = word_tokenize(txt)\n",
        "    txt = ' '.join([w for w in tokenized if w not in stop_words]) # Stopword removal  \n",
        "    return txt.strip()"
      ],
      "metadata": {
        "id": "Gb0u8BjDGSTg"
      },
      "execution_count": null,
      "outputs": []
    },
    {
      "cell_type": "code",
      "source": [
        "df['cleaned_summary'] = df.Summary.apply(preprocess) \n",
        "df = df.drop(columns=['Summary', 'Description'])"
      ],
      "metadata": {
        "id": "nANF-sLDGxHG"
      },
      "execution_count": null,
      "outputs": []
    },
    {
      "cell_type": "markdown",
      "source": [
        "# Selecting The Pipeline & Labels"
      ],
      "metadata": {
        "id": "Ol8nOYhoKevR"
      }
    },
    {
      "cell_type": "code",
      "execution_count": null,
      "metadata": {
        "colab": {
          "base_uri": "https://localhost:8080/",
          "height": 226,
          "referenced_widgets": [
            "3d1c55c230fd4973b0e4788e9a528536",
            "13106e9a2d3340a891814fdd2ba91693",
            "e0d30b67087548e08cd4a9ecc90127b2",
            "28cf6cafebae4de7b4a425c714bb3216",
            "eaf7fce61fc44b8aa2530491bd7f5d6f",
            "a53bfff3b29a421b99bdf37fba64f6c7",
            "1c42b34521924de3818106f2393738ae",
            "15b8a83232ad430c86b6419cc3b9edae",
            "7ed86db49cc545108f66e0082c68b784",
            "74138dc16f784ef7bf7b94d5dde998a4",
            "ff12a3f032be42ddaf27cda3543c3824",
            "272516f71d0748d390dfba8d4b2be372",
            "4a5cf019f229471caa68802d79113e82",
            "8d94a27aa99e44cb917cc01480d5121b",
            "70af7651228344e39bfa34864a1c86df",
            "5f878c7dce2446788f4000f198135e8b",
            "4c9a7b288f6e41b9ac923491828c0bd2",
            "c886b23dd6b04d229014cb67f2dfdeca",
            "f6ca039e4dc24757a427b2e6922ea5e7",
            "81aad2f801e84acb811c8e8100d9b009",
            "d50e8bc1438744748cc25bcaff9b0e0b",
            "b3014938b61d4d8c840f723841dc32fb",
            "5c26aae43db845cebbc3108fe8875652",
            "76d496a7ba88476b9a90444275466fba",
            "595666e35a96424ca0e70db6363d85f4",
            "75f321b6588c47a89b20e492726d59e9",
            "bc6ca27e9b3946648c65a2ff5c88f94a",
            "2b4741945a3b4c56b1ce8000fff71e6a",
            "07c8880653c24c08b631ff3d1d2ebac8",
            "927a5321e643437891e40a0a33ee7e9a",
            "110b7efc156347ac9aa7276c28d51b82",
            "2d2c9926f87f43a2873766726d49fadd",
            "4c679f55474e4146b3efb869d3cf393d",
            "9ec637c1d025495f8005f3dafc99690c",
            "081099b00dc24f93a0a89700f4635081",
            "0cbacb2c895e40cc962aaeb7fd201e4c",
            "906d4c1738524335a74d8613ab9de273",
            "2ed366cfc45f4539872b46913ded1875",
            "797bd165db854b9a99f7162fbf6e78a5",
            "f0a52c71f0b74b56a64c87ff4e0edd28",
            "478460c076fa4334a9a1ab0954f83d88",
            "e5185a845c66460387031195122ab2a1",
            "803c6f80a9f1439da207974956ca84c3",
            "4ccaa016b6cd4333bc4a1922ceb030a5",
            "8db12ba75305458d948ba6b0dc07f978",
            "91ed22c085d34bb7a380172058cf4085",
            "1aadf18673744c9fa207068fb3f3abfd",
            "9d1d75037a0d461686dcc2283097f1ee",
            "73bfacf33cb145849663573aca954b2d",
            "c54509e0723244fcaa6c59248f1eff13",
            "fcd04540c50a46abbd27df9676c977ee",
            "a0b1beb4e60346d48d8e486538f2b59c",
            "b607b19e79094be2ac913766ef44b470",
            "13f03422aadf4e0d9445e51a880ba670",
            "b29e6ea4b2734aa69a4abdd2a4c19500",
            "f59e6ad1f6bb427281ed2a810a27dcc2",
            "397b8a9c156f4f54b3d5b81ab66dab82",
            "a7f56d91f99240f1b1a8f62c79434422",
            "9a3823ae658047f7b4f4ad7c4930fd6c",
            "ae2fa4f366bd4120b4b8d877f105615c",
            "c7430f023bf248568424f6c2b3660e77",
            "bef7b68efb164baca57f1836fad87c46",
            "038ea41ed99c48e48cd9aeed025700f1",
            "d32d794290c44864bf204b81c1d4d8ac",
            "73992d1c011b4992a69056807eab031b",
            "86c3971f69a54c44a1749b4adacfdaab"
          ]
        },
        "id": "bPB1pq-4vrSZ",
        "outputId": "0427f812-ba7b-404d-c31c-d3959a0ac062"
      },
      "outputs": [
        {
          "output_type": "stream",
          "name": "stderr",
          "text": [
            "No model was supplied, defaulted to facebook/bart-large-mnli (https://huggingface.co/facebook/bart-large-mnli)\n"
          ]
        },
        {
          "output_type": "display_data",
          "data": {
            "text/plain": [
              "Downloading:   0%|          | 0.00/1.13k [00:00<?, ?B/s]"
            ],
            "application/vnd.jupyter.widget-view+json": {
              "version_major": 2,
              "version_minor": 0,
              "model_id": "3d1c55c230fd4973b0e4788e9a528536"
            }
          },
          "metadata": {}
        },
        {
          "output_type": "display_data",
          "data": {
            "text/plain": [
              "Downloading:   0%|          | 0.00/1.52G [00:00<?, ?B/s]"
            ],
            "application/vnd.jupyter.widget-view+json": {
              "version_major": 2,
              "version_minor": 0,
              "model_id": "272516f71d0748d390dfba8d4b2be372"
            }
          },
          "metadata": {}
        },
        {
          "output_type": "display_data",
          "data": {
            "text/plain": [
              "Downloading:   0%|          | 0.00/26.0 [00:00<?, ?B/s]"
            ],
            "application/vnd.jupyter.widget-view+json": {
              "version_major": 2,
              "version_minor": 0,
              "model_id": "5c26aae43db845cebbc3108fe8875652"
            }
          },
          "metadata": {}
        },
        {
          "output_type": "display_data",
          "data": {
            "text/plain": [
              "Downloading:   0%|          | 0.00/878k [00:00<?, ?B/s]"
            ],
            "application/vnd.jupyter.widget-view+json": {
              "version_major": 2,
              "version_minor": 0,
              "model_id": "9ec637c1d025495f8005f3dafc99690c"
            }
          },
          "metadata": {}
        },
        {
          "output_type": "display_data",
          "data": {
            "text/plain": [
              "Downloading:   0%|          | 0.00/446k [00:00<?, ?B/s]"
            ],
            "application/vnd.jupyter.widget-view+json": {
              "version_major": 2,
              "version_minor": 0,
              "model_id": "8db12ba75305458d948ba6b0dc07f978"
            }
          },
          "metadata": {}
        },
        {
          "output_type": "display_data",
          "data": {
            "text/plain": [
              "Downloading:   0%|          | 0.00/1.29M [00:00<?, ?B/s]"
            ],
            "application/vnd.jupyter.widget-view+json": {
              "version_major": 2,
              "version_minor": 0,
              "model_id": "f59e6ad1f6bb427281ed2a810a27dcc2"
            }
          },
          "metadata": {}
        }
      ],
      "source": [
        "classifier = pipeline(\"zero-shot-classification\", device=0)\n",
        "candidate_labels = [\"QA Automation API\",\n",
        "\"Uploading Documents\",\n",
        "\"Missing Values\",\n",
        "\"Anti-virus software\",\n",
        "\"DMS\",\n",
        "\"New Window Issues\",\n",
        "\"Smoke Test\",\n",
        "\"NRT\",\n",
        "\"Nexus\",\n",
        "\"Data\",\n",
        "\"Dev Stage Server\",\n",
        "\"NWCC\",\n",
        "\"WICS\",\n",
        "\"Bug\",\n",
        "\"Modals\",\n",
        "\"DCS\",\n",
        "\"Regression Test\",\n",
        "\"Validation Test\",\n",
        "\"Web Service\"\n",
        "]\n"
      ]
    },
    {
      "cell_type": "code",
      "source": [
        "%%time\n",
        "df['class'] = df['cleaned_summary'].apply(lambda x: classifier(str(x), candidate_labels))"
      ],
      "metadata": {
        "colab": {
          "base_uri": "https://localhost:8080/"
        },
        "id": "Ah6ol8QIv_XE",
        "outputId": "89934baa-a2d7-46a9-a24a-cf2d634ec210"
      },
      "execution_count": null,
      "outputs": [
        {
          "output_type": "stream",
          "name": "stderr",
          "text": [
            "/usr/local/lib/python3.7/dist-packages/transformers/pipelines/base.py:1015: UserWarning: You seem to be using the pipelines sequentially on GPU. In order to maximize efficiency please use a dataset\n",
            "  UserWarning,\n"
          ]
        },
        {
          "output_type": "stream",
          "name": "stdout",
          "text": [
            "Generated Classes\n",
            "CPU times: user 42min 5s, sys: 32.7 s, total: 42min 38s\n",
            "Wall time: 42min 37s\n"
          ]
        }
      ]
    },
    {
      "cell_type": "markdown",
      "source": [
        "# Saving Output"
      ],
      "metadata": {
        "id": "mwFMMzg_KlOt"
      }
    },
    {
      "cell_type": "code",
      "source": [
        "label = []\n",
        "for i in df['class']:\n",
        "  label.append(i[\"labels\"][0])\n",
        "\n",
        "df['Cluster label'] = label\n",
        "df.to_csv('Jira_output.csv')"
      ],
      "metadata": {
        "colab": {
          "base_uri": "https://localhost:8080/"
        },
        "id": "MZCN6fvLwCBN",
        "outputId": "112ac9c9-31a3-4737-bb47-28369bc8ef04"
      },
      "execution_count": null,
      "outputs": [
        {
          "output_type": "stream",
          "name": "stdout",
          "text": [
            "Saved Labels to the file\n"
          ]
        }
      ]
    }
  ]
}